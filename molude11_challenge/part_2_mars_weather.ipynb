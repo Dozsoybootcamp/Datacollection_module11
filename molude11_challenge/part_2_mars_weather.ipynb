{
 "cells": [
  {
   "attachments": {},
   "cell_type": "markdown",
   "metadata": {},
   "source": [
    "# Module 12 Challenge\n",
    "## Deliverable 2: Scrape and Analyze Mars Weather Data"
   ]
  },
  {
   "cell_type": "code",
   "execution_count": 1,
   "metadata": {},
   "outputs": [],
   "source": [
    "# Import relevant libraries\n",
    "from splinter import Browser\n",
    "from bs4 import BeautifulSoup\n",
    "import matplotlib.pyplot as plt\n",
    "import pandas as pd"
   ]
  },
  {
   "cell_type": "code",
   "execution_count": 2,
   "metadata": {},
   "outputs": [],
   "source": [
    "browser = Browser('chrome')"
   ]
  },
  {
   "attachments": {},
   "cell_type": "markdown",
   "metadata": {},
   "source": [
    "### Step 1: Visit the Website\n",
    "\n",
    "Use automated browsing to visit the [Mars Temperature Data Site](https://static.bc-edx.com/data/web/mars_facts/temperature.html). Inspect the page to identify which elements to scrape.\n",
    "\n",
    "   > **Hint** To identify which elements to scrape, you might want to inspect the page by using Chrome DevTools to discover whether the table contains usable classes.\n"
   ]
  },
  {
   "cell_type": "code",
   "execution_count": 3,
   "metadata": {},
   "outputs": [],
   "source": [
    "# Visit the website\n",
    "# https://static.bc-edx.com/data/web/mars_facts/temperature.html\n",
    "url = \"https://static.bc-edx.com/data/web/mars_facts/temperature.html\"\n",
    "browser.visit(url)"
   ]
  },
  {
   "attachments": {},
   "cell_type": "markdown",
   "metadata": {},
   "source": [
    "### Step 2: Scrape the Table\n",
    "\n",
    "Create a Beautiful Soup object and use it to scrape the data in the HTML table.\n",
    "\n",
    "Note that this can also be achieved by using the Pandas `read_html` function. However, use Beautiful Soup here to continue sharpening your web scraping skills."
   ]
  },
  {
   "cell_type": "code",
   "execution_count": 5,
   "metadata": {},
   "outputs": [],
   "source": [
    "# Get the HTML content of the page after visiting it\n",
    "html = browser.html\n",
    "# Create a Beautiful Soup Object\n",
    "soup = BeautifulSoup(html, 'html.parser')\n",
    "# Find the table in the HTML\n",
    "mars_table = soup.find('table', class_='table')  # Adjust the class if necessary\n"
   ]
  },
  {
   "cell_type": "code",
   "execution_count": 6,
   "metadata": {},
   "outputs": [],
   "source": [
    "# Extract all rows of data\n",
    "rows = mars_table.find_all('tr')"
   ]
  },
  {
   "attachments": {},
   "cell_type": "markdown",
   "metadata": {},
   "source": [
    "### Step 3: Store the Data\n",
    "\n",
    "Assemble the scraped data into a Pandas DataFrame. The columns should have the same headings as the table on the website. Here’s an explanation of the column headings:\n",
    "\n",
    "* `id`: the identification number of a single transmission from the Curiosity rover\n",
    "* `terrestrial_date`: the date on Earth\n",
    "* `sol`: the number of elapsed sols (Martian days) since Curiosity landed on Mars\n",
    "* `ls`: the solar longitude\n",
    "* `month`: the Martian month\n",
    "* `min_temp`: the minimum temperature, in Celsius, of a single Martian day (sol)\n",
    "* `pressure`: The atmospheric pressure at Curiosity's location"
   ]
  },
  {
   "cell_type": "code",
   "execution_count": 8,
   "metadata": {},
   "outputs": [],
   "source": [
    "# Create an empty list\n",
    "mars_data = []\n",
    "# Loop through the scraped data to create a list of rows\n",
    "#Loop through the rows and extract the data\n",
    "for row in rows:\n",
    "    # Find all columns in the current row\n",
    "    columns = row.find_all('td')\n",
    "    \n",
    "    # Extract text from each column and strip any extra whitespace\n",
    "    row_data = [col.text.strip() for col in columns]\n",
    "    \n",
    "    # Append the extracted row data to the mars_data list\n",
    "    mars_data.append(row_data)"
   ]
  },
  {
   "cell_type": "code",
   "execution_count": 10,
   "metadata": {},
   "outputs": [],
   "source": [
    "# Create a Pandas DataFrame by using the list of rows and a list of the column names\n",
    "columns = [\"id\", \"terrestrial_date\", \"sol\", \"ls\", \"month\", \"min_temp\", \"pressure\"]\n",
    "mars_df = pd.DataFrame(mars_data, columns=columns)"
   ]
  },
  {
   "cell_type": "code",
   "execution_count": 11,
   "metadata": {},
   "outputs": [
    {
     "name": "stdout",
     "output_type": "stream",
     "text": [
      "        id terrestrial_date   sol    ls month min_temp pressure\n",
      "0     None             None  None  None  None     None     None\n",
      "1        2       2012-08-16    10   155     6    -75.0    739.0\n",
      "2       13       2012-08-17    11   156     6    -76.0    740.0\n",
      "3       24       2012-08-18    12   156     6    -76.0    741.0\n",
      "4       35       2012-08-19    13   157     6    -74.0    732.0\n",
      "...    ...              ...   ...   ...   ...      ...      ...\n",
      "1863  1889       2018-02-23  1973   133     5    -78.0    730.0\n",
      "1864  1892       2018-02-24  1974   134     5    -77.0    729.0\n",
      "1865  1894       2018-02-25  1975   134     5    -76.0    729.0\n",
      "1866  1893       2018-02-26  1976   135     5    -77.0    728.0\n",
      "1867  1895       2018-02-27  1977   135     5    -77.0    727.0\n",
      "\n",
      "[1868 rows x 7 columns]\n"
     ]
    }
   ],
   "source": [
    "# Confirm DataFrame was created successfully\n",
    "print(mars_df)"
   ]
  },
  {
   "attachments": {},
   "cell_type": "markdown",
   "metadata": {},
   "source": [
    "### Step 4: Prepare Data for Analysis\n",
    "\n",
    "Examine the data types that are currently associated with each column. If necessary, cast (or convert) the data to the appropriate `datetime`, `int`, or `float` data types.\n",
    "\n",
    "  > **Hint** You can use the Pandas `astype` and `to_datetime` methods to accomplish this task.\n"
   ]
  },
  {
   "cell_type": "code",
   "execution_count": 14,
   "metadata": {},
   "outputs": [
    {
     "name": "stdout",
     "output_type": "stream",
     "text": [
      "id       1\n",
      "sol      1\n",
      "month    1\n",
      "dtype: int64\n"
     ]
    }
   ],
   "source": [
    "# Examine data type of each column\n",
    "# Check for missing values in the id, sol, and month columns\n",
    "print(mars_df[['id', 'sol', 'month']].isnull().sum())\n",
    "\n",
    "#Fill Missing Values with a Default Value:\n",
    "mars_df['id'] = mars_df['id'].fillna(0).astype(int)\n",
    "mars_df['sol'] = mars_df['sol'].fillna(0).astype(int)\n",
    "mars_df['month'] = mars_df['month'].fillna(0).astype(int)\n",
    "\n",
    "#Drop Rows with Missing Values\n",
    "mars_df = mars_df.dropna(subset=['id', 'sol', 'month'])\n",
    "\n",
    "# Then attempt to convert the columns again\n",
    "mars_df['id'] = mars_df['id'].astype(int)\n",
    "mars_df['sol'] = mars_df['sol'].astype(int)\n",
    "mars_df['month'] = mars_df['month'].astype(int)\n"
   ]
  },
  {
   "cell_type": "code",
   "execution_count": 15,
   "metadata": {},
   "outputs": [
    {
     "name": "stdout",
     "output_type": "stream",
     "text": [
      "Missing values before conversion:\n",
      "id                  0\n",
      "terrestrial_date    1\n",
      "sol                 0\n",
      "ls                  1\n",
      "month               0\n",
      "min_temp            1\n",
      "pressure            1\n",
      "dtype: int64\n"
     ]
    }
   ],
   "source": [
    "# Change data types for data analysis\n",
    "\n",
    "# Check for missing values\n",
    "print(\"Missing values before conversion:\")\n",
    "print(mars_df.isnull().sum())\n",
    "\n",
    "#Fill Missing Values\n",
    "mars_df['id'] = mars_df['id'].fillna(0)\n",
    "mars_df['sol'] = mars_df['sol'].fillna(0)\n",
    "mars_df['month'] = mars_df['month'].fillna(0)\n",
    "\n",
    "#Drop rosw with missing values\n",
    "mars_df = mars_df.dropna(subset=['id', 'sol', 'month'])\n",
    "\n",
    "#Convert terrestrial_date to datetime:\n",
    "mars_df['terrestrial_date'] = pd.to_datetime(mars_df['terrestrial_date'])\n",
    "\n",
    "#Convert id, sol, and month to integer:\n",
    "mars_df['id'] = mars_df['id'].astype(int)\n",
    "mars_df['sol'] = mars_df['sol'].astype(int)\n",
    "mars_df['month'] = mars_df['month'].astype(int)\n",
    "\n",
    "\n",
    "#Convert ls, min_temp, and pressure to float:\n",
    "mars_df['ls'] = mars_df['ls'].astype(float)\n",
    "mars_df['min_temp'] = mars_df['min_temp'].astype(float)\n",
    "mars_df['pressure'] = mars_df['pressure'].astype(float)\n"
   ]
  },
  {
   "cell_type": "code",
   "execution_count": 16,
   "metadata": {},
   "outputs": [
    {
     "name": "stdout",
     "output_type": "stream",
     "text": [
      "\n",
      "Data types after conversion:\n",
      "id                           int64\n",
      "terrestrial_date    datetime64[ns]\n",
      "sol                          int64\n",
      "ls                         float64\n",
      "month                        int64\n",
      "min_temp                   float64\n",
      "pressure                   float64\n",
      "dtype: object\n"
     ]
    }
   ],
   "source": [
    "# Confirm type changes were successful by examining data types again\n",
    "print(\"\\nData types after conversion:\")\n",
    "print(mars_df.dtypes)"
   ]
  },
  {
   "attachments": {},
   "cell_type": "markdown",
   "metadata": {},
   "source": [
    "### Step 5: Analyze the Data\n",
    "\n",
    "Analyze your dataset by using Pandas functions to answer the following questions:\n",
    "\n",
    "1. How many months exist on Mars?\n",
    "2. How many Martian (and not Earth) days worth of data exist in the scraped dataset?\n",
    "3. What are the coldest and the warmest months on Mars (at the location of Curiosity)? To answer this question:\n",
    "    * Find the average the minimum daily temperature for all of the months.\n",
    "    * Plot the results as a bar chart.\n",
    "4. Which months have the lowest and the highest atmospheric pressure on Mars? To answer this question:\n",
    "    * Find the average the daily atmospheric pressure of all the months.\n",
    "    * Plot the results as a bar chart.\n",
    "5. About how many terrestrial (Earth) days exist in a Martian year? To answer this question:\n",
    "    * Consider how many days elapse on Earth in the time that Mars circles the Sun once.\n",
    "    * Visually estimate the result by plotting the daily minimum temperature.\n"
   ]
  },
  {
   "cell_type": "code",
   "execution_count": 18,
   "metadata": {},
   "outputs": [
    {
     "name": "stdout",
     "output_type": "stream",
     "text": [
      "There are 13 months on Mars.\n"
     ]
    }
   ],
   "source": [
    "# 1. How many months are there on Mars?\n",
    "num_months = mars_df['month'].nunique()\n",
    "print(f\"There are {num_months} months on Mars.\")"
   ]
  },
  {
   "cell_type": "code",
   "execution_count": 19,
   "metadata": {},
   "outputs": [
    {
     "name": "stdout",
     "output_type": "stream",
     "text": [
      "There are 1868 Martian days worth of data in the dataset.\n"
     ]
    }
   ],
   "source": [
    "# 2. How many Martian days' worth of data are there?\n",
    "num_sols = mars_df['sol'].nunique()\n",
    "print(f\"There are {num_sols} Martian days worth of data in the dataset.\")"
   ]
  },
  {
   "cell_type": "code",
   "execution_count": 23,
   "metadata": {},
   "outputs": [
    {
     "name": "stdout",
     "output_type": "stream",
     "text": [
      "month\n",
      "0           NaN\n",
      "1    -77.160920\n",
      "2    -79.932584\n",
      "3    -83.307292\n",
      "4    -82.747423\n",
      "5    -79.308725\n",
      "6    -75.299320\n",
      "7    -72.281690\n",
      "8    -68.382979\n",
      "9    -69.171642\n",
      "10   -71.982143\n",
      "11   -71.985507\n",
      "12   -74.451807\n",
      "Name: min_temp, dtype: float64\n"
     ]
    }
   ],
   "source": [
    "# 3. What is the average low temperature by month?\n",
    "\n",
    "# Group by month and calculate the average minimum temperature\n",
    "avg_min_temp_by_month = mars_df.groupby('month')['min_temp'].mean()\n",
    "\n",
    "print(avg_min_temp_by_month)"
   ]
  },
  {
   "cell_type": "code",
   "execution_count": 22,
   "metadata": {},
   "outputs": [
    {
     "data": {
      "image/png": "[encoded data removed]",
      "text/plain": [
       "<Figure size 640x480 with 1 Axes>"
      ]
     },
     "metadata": {},
     "output_type": "display_data"
    }
   ],
   "source": [
    "# Plot the average temperature by month\n",
    "avg_min_temp_by_month.plot(kind='bar', color='blue', title='Average Minimum Temperature by Month on Mars')\n",
    "plt.xlabel('Month')\n",
    "plt.ylabel('Average Temperature (Celsius)')\n",
    "plt.show()"
   ]
  },
  {
   "cell_type": "code",
   "execution_count": 24,
   "metadata": {},
   "outputs": [
    {
     "name": "stdout",
     "output_type": "stream",
     "text": [
      "The coldest month on Mars at Curiosity's location is month 3 with an average temperature of -83.31°C.\n",
      "The hottest month on Mars at Curiosity's location is month 8 with an average temperature of -68.38°C.\n"
     ]
    },
    {
     "data": {
      "image/png": "[encoded data removed]",
      "text/plain": [
       "<Figure size 640x480 with 1 Axes>"
      ]
     },
     "metadata": {},
     "output_type": "display_data"
    }
   ],
   "source": [
    "# Identify the coldest and hottest months in Curiosity's location\n",
    "\n",
    "# Sort the results to easily identify the coldest and hottest months\n",
    "avg_min_temp_by_month = avg_min_temp_by_month.sort_values()\n",
    "\n",
    "# Identify the coldest month\n",
    "coldest_month = avg_min_temp_by_month.idxmin()\n",
    "coldest_temp = avg_min_temp_by_month.min()\n",
    "\n",
    "# Identify the hottest month\n",
    "hottest_month = avg_min_temp_by_month.idxmax()\n",
    "hottest_temp = avg_min_temp_by_month.max()\n",
    "\n",
    "print(f\"The coldest month on Mars at Curiosity's location is month {coldest_month} with an average temperature of {coldest_temp:.2f}°C.\")\n",
    "print(f\"The hottest month on Mars at Curiosity's location is month {hottest_month} with an average temperature of {hottest_temp:.2f}°C.\")\n",
    "\n",
    "# Step 3: Plot the average minimum temperature by month\n",
    "avg_min_temp_by_month.plot(kind='bar', color='blue', title='Average Minimum Temperature by Month on Mars')\n",
    "plt.xlabel('Month')\n",
    "plt.ylabel('Average Temperature (Celsius)')\n",
    "plt.show()"
   ]
  },
  {
   "cell_type": "code",
   "execution_count": 27,
   "metadata": {},
   "outputs": [],
   "source": [
    "# 4. Average pressure by Martian month\n",
    "\n",
    "#Group by month and calculate the average atmospheric pressure\n",
    "avg_pressure_by_month = mars_df.groupby('month')['pressure'].mean()\n",
    "\n"
   ]
  },
  {
   "cell_type": "code",
   "execution_count": 28,
   "metadata": {},
   "outputs": [
    {
     "data": {
      "image/png": "[encoded data removed]",
      "text/plain": [
       "<Figure size 640x480 with 1 Axes>"
      ]
     },
     "metadata": {},
     "output_type": "display_data"
    },
    {
     "name": "stdout",
     "output_type": "stream",
     "text": [
      "month\n",
      "0            NaN\n",
      "1     862.488506\n",
      "2     889.455056\n",
      "3     877.322917\n",
      "4     806.329897\n",
      "5     748.557047\n",
      "6     745.054422\n",
      "7     795.105634\n",
      "8     873.829787\n",
      "9     913.305970\n",
      "10    887.312500\n",
      "11    857.014493\n",
      "12    842.156627\n",
      "Name: pressure, dtype: float64\n"
     ]
    }
   ],
   "source": [
    "# Plot the average pressure by month\n",
    "# Plot the average atmospheric pressure by Martian month\n",
    "avg_pressure_by_month.plot(kind='bar', color='blue', title='Average Atmospheric Pressure by Martian Month')\n",
    "plt.xlabel('Month')\n",
    "plt.ylabel('Average Atmospheric Pressure')\n",
    "plt.show()\n",
    "\n",
    "# Print the DataFrame for reference\n",
    "print(avg_pressure_by_month)"
   ]
  },
  {
   "cell_type": "code",
   "execution_count": 1,
   "metadata": {},
   "outputs": [
    {
     "ename": "NameError",
     "evalue": "name 'mars_df' is not defined",
     "output_type": "error",
     "traceback": [
      "\u001b[0;31m---------------------------------------------------------------------------\u001b[0m",
      "\u001b[0;31mNameError\u001b[0m                                 Traceback (most recent call last)",
      "Cell \u001b[0;32mIn[1], line 4\u001b[0m\n\u001b[1;32m      1\u001b[0m \u001b[38;5;66;03m# 5. How many terrestrial (earth) days are there in a Martian year?\u001b[39;00m\n\u001b[1;32m      2\u001b[0m \n\u001b[1;32m      3\u001b[0m \u001b[38;5;66;03m# Sort the DataFrame by terrestrial_date to ensure chronological order\u001b[39;00m\n\u001b[0;32m----> 4\u001b[0m mars_df \u001b[38;5;241m=\u001b[39m mars_df\u001b[38;5;241m.\u001b[39msort_values(by\u001b[38;5;241m=\u001b[39m\u001b[38;5;124m'\u001b[39m\u001b[38;5;124mterrestrial_date\u001b[39m\u001b[38;5;124m'\u001b[39m)\n\u001b[1;32m      6\u001b[0m \u001b[38;5;66;03m# Identify all the points where `ls` is 0, marking the start of a Martian year\u001b[39;00m\n\u001b[1;32m      7\u001b[0m start_of_years \u001b[38;5;241m=\u001b[39m mars_df[mars_df[\u001b[38;5;124m'\u001b[39m\u001b[38;5;124mls\u001b[39m\u001b[38;5;124m'\u001b[39m] \u001b[38;5;241m==\u001b[39m \u001b[38;5;241m0\u001b[39m]\n",
      "\u001b[0;31mNameError\u001b[0m: name 'mars_df' is not defined"
     ]
    }
   ],
   "source": [
    "# 5. How many terrestrial (earth) days are there in a Martian year?\n",
    "\n",
    "# Sort the DataFrame by terrestrial_date to ensure chronological order\n",
    "mars_df = mars_df.sort_values(by='terrestrial_date')\n",
    "\n",
    "# Identify all the points where `ls` is 0, marking the start of a Martian year\n",
    "start_of_years = mars_df[mars_df['ls'] == 0]\n",
    "\n",
    "# Identify the rows where `ls` is close to 0 (beginning of the Martian year)\n",
    "start_of_year = mars_df[mars_df['ls'] == 0].iloc[0]\n",
    "end_of_year = mars_df[mars_df['ls'] == 0].iloc[-1]\n",
    "\n",
    "# Calculate the number of Earth days between the start and end of the Martian year\n",
    "days_in_martian_year = (end_of_year['terrestrial_date'] - start_of_year['terrestrial_date']).days\n",
    "\n",
    "# Calculate the number of Earth days between consecutive Martian years\n",
    "days_in_martian_years = start_of_years['terrestrial_date'].diff().dt.days\n",
    "\n",
    "# Drop the first value because it's NaN (no previous year to compare)\n",
    "days_in_martian_years = days_in_martian_years.dropna()\n",
    "\n",
    "# Print the average number of Earth days in a Martian year\n",
    "average_days_in_martian_year = days_in_martian_years.mean()\n",
    "print(f\"On average, there are approximately {average_days_in_martian_year:.2f} Earth days in a Martian year.\")\n",
    "\n",
    "# Plotting the number of Earth days in each Martian year\n",
    "plt.figure(figsize=(10, 6))\n",
    "plt.bar(range(len(days_in_martian_years)), days_in_martian_years, color='blue')\n",
    "plt.axhline(average_days_in_martian_year, color='red', linestyle='--', label=f'Average = {average_days_in_martian_year:.2f} days')\n",
    "plt.title('Number of Earth Days in Each Martian Year')\n",
    "plt.xlabel('Martian Year')\n",
    "plt.ylabel('Number of Earth Days')\n",
    "plt.legend()\n",
    "plt.show()"
   ]
  },
  {
   "attachments": {},
   "cell_type": "markdown",
   "metadata": {},
   "source": [
    "On average, the third month has the coldest minimum temperature on Mars, and the eighth month is the warmest. But it is always very cold there in human terms!\n",
    "\n"
   ]
  },
  {
   "attachments": {},
   "cell_type": "markdown",
   "metadata": {},
   "source": [
    "Atmospheric pressure is, on average, lowest in the sixth month and highest in the ninth."
   ]
  },
  {
   "attachments": {},
   "cell_type": "markdown",
   "metadata": {},
   "source": [
    "The distance from peak to peak is roughly 1425-750, or 675 days. A year on Mars appears to be about 675 days from the plot. Internet search confirms that a Mars year is equivalent to 687 earth days."
   ]
  },
  {
   "attachments": {},
   "cell_type": "markdown",
   "metadata": {},
   "source": [
    "### Step 6: Save the Data\n",
    "\n",
    "Export the DataFrame to a CSV file."
   ]
  },
  {
   "cell_type": "code",
   "execution_count": 33,
   "metadata": {},
   "outputs": [],
   "source": [
    "# Write the data to a CSV\n",
    "mars_df.to_csv('mars_data.csv', index=False)"
   ]
  },
  {
   "cell_type": "code",
   "execution_count": 34,
   "metadata": {},
   "outputs": [],
   "source": [
    "browser.quit()"
   ]
  },
  {
   "cell_type": "code",
   "execution_count": null,
   "metadata": {},
   "outputs": [],
   "source": []
  }
 ],
 "metadata": {
  "kernelspec": {
   "display_name": "Python 3 (ipykernel)",
   "language": "python",
   "name": "python3"
  },
  "language_info": {
   "codemirror_mode": {
    "name": "ipython",
    "version": 3
   },
   "file_extension": ".py",
   "mimetype": "text/x-python",
   "name": "python",
   "nbconvert_exporter": "python",
   "pygments_lexer": "ipython3",
   "version": "3.11.7"
  },
  "vscode": {
   "interpreter": {
    "hash": "31f2aee4e71d21fbe5cf8b01ff0e069b9275f58929596ceb00d14d90e3e16cd6"
   }
  }
 },
 "nbformat": 4,
 "nbformat_minor": 4
}
